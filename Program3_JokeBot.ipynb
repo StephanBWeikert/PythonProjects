{
  "nbformat": 4,
  "nbformat_minor": 0,
  "metadata": {
    "colab": {
      "provenance": [],
      "authorship_tag": "ABX9TyP2UKbtUkXPIn700gzzq05e",
      "include_colab_link": true
    },
    "kernelspec": {
      "name": "python3",
      "display_name": "Python 3"
    },
    "language_info": {
      "name": "python"
    }
  },
  "cells": [
    {
      "cell_type": "markdown",
      "metadata": {
        "id": "view-in-github",
        "colab_type": "text"
      },
      "source": [
        "<a href=\"https://colab.research.google.com/github/StephanBWeikert/PythonProjects/blob/main/Program3_JokeBot.ipynb\" target=\"_parent\"><img src=\"https://colab.research.google.com/assets/colab-badge.svg\" alt=\"Open In Colab\"/></a>"
      ]
    },
    {
      "cell_type": "code",
      "execution_count": 17,
      "metadata": {
        "colab": {
          "base_uri": "https://localhost:8080/"
        },
        "id": "PYWlE1FVs1NR",
        "outputId": "829bee0a-74b9-4ec3-d484-9eb4844dd1ae"
      },
      "outputs": [
        {
          "output_type": "stream",
          "name": "stdout",
          "text": [
            "Hello, I have some jokes for you today!\n",
            "What do you get when you cross a snowman with a vampire?\n",
            "Frostbite\n",
            "Wow you're sharp, here's another one!\n",
            "What position do ghosts play in soccer?\n",
            "Ghoulie\n",
            "Very clever!\n",
            "here's the final one!\n",
            "Knock knock.\n",
            "whos there\n",
            "Who's there?\n",
            "\n",
            "Interrupting Cow.\n",
            "\n",
            "Interrupting Cow wh-MOO!\n"
          ]
        }
      ],
      "source": [
        "# This program tells some jokes to the user\n",
        "print('Hello, I have some jokes for you today!')\n",
        "print('What do you get when you cross a snowman with a vampire?')\n",
        "TheAnswer = input()\n",
        "if TheAnswer == 'Frostbite':\n",
        "  print('Wow you\\'re sharp, here\\'s another one!')\n",
        "if TheAnswer != 'Frostbite': \n",
        "  print('Frostbite!')\n",
        "  print('Here\\'s another joke.')\n",
        "print('What position do ghosts play in soccer?')\n",
        "TheAnswer =  input()\n",
        "if TheAnswer == 'Ghoulie':\n",
        "  print('Very clever!')\n",
        "  print('here\\'s the final one!')\n",
        "if TheAnswer != 'Ghoulie': \n",
        "  print('Ghoulie!') \n",
        "  print('Here\\'s my last joke:')\n",
        "print('Knock knock.')\n",
        "input()\n",
        "print('Who\\'s there?')\n",
        "input()\n",
        "print('Interrupting Cow.')\n",
        "input()\n",
        "print('Interrupting Cow wh', end='')\n",
        "print('-MOO!')"
      ]
    }
  ]
}