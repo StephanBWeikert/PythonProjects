{
  "nbformat": 4,
  "nbformat_minor": 0,
  "metadata": {
    "colab": {
      "provenance": [],
      "authorship_tag": "ABX9TyMEyyArJT2ypac5HTmk3tdh",
      "include_colab_link": true
    },
    "kernelspec": {
      "name": "python3",
      "display_name": "Python 3"
    },
    "language_info": {
      "name": "python"
    }
  },
  "cells": [
    {
      "cell_type": "markdown",
      "metadata": {
        "id": "view-in-github",
        "colab_type": "text"
      },
      "source": [
        "<a href=\"https://colab.research.google.com/github/StephanBWeikert/PythonProjects/blob/main/myfirstpythonprogram.ipynb\" target=\"_parent\"><img src=\"https://colab.research.google.com/assets/colab-badge.svg\" alt=\"Open In Colab\"/></a>"
      ]
    },
    {
      "cell_type": "code",
      "execution_count": null,
      "metadata": {
        "colab": {
          "base_uri": "https://localhost:8080/"
        },
        "id": "UiEbtAwnq82t",
        "outputId": "075d835f-9788-4bf9-8145-25d1bca64e29"
      },
      "outputs": [
        {
          "output_type": "stream",
          "name": "stdout",
          "text": [
            "Hello World!\n",
            "What is your name?\n",
            "MountaineerFan\n",
            "It is good to meet you, MountaineerFan!\n"
          ]
        }
      ],
      "source": [
        "# This program says hello and asks for my name.\n",
        "print('Hello World!')\n",
        "print('What is your name?')\n",
        "myName = input()\n",
        "print('It is good to meet you, ' + myName + '!')"
      ]
    }
  ]
}