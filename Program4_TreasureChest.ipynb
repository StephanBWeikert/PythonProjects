{
  "nbformat": 4,
  "nbformat_minor": 0,
  "metadata": {
    "colab": {
      "provenance": [],
      "authorship_tag": "ABX9TyN3M5aoi2+wOuEaSLHsNkek",
      "include_colab_link": true
    },
    "kernelspec": {
      "name": "python3",
      "display_name": "Python 3"
    },
    "language_info": {
      "name": "python"
    }
  },
  "cells": [
    {
      "cell_type": "markdown",
      "metadata": {
        "id": "view-in-github",
        "colab_type": "text"
      },
      "source": [
        "<a href=\"https://colab.research.google.com/github/StephanBWeikert/PythonProjects/blob/main/Program4_TreasureChest.ipynb\" target=\"_parent\"><img src=\"https://colab.research.google.com/assets/colab-badge.svg\" alt=\"Open In Colab\"/></a>"
      ]
    },
    {
      "cell_type": "code",
      "execution_count": null,
      "metadata": {
        "id": "IlDYYQyZ0b0G",
        "colab": {
          "base_uri": "https://localhost:8080/"
        },
        "outputId": "1a4de5ca-457f-4014-cddf-92ae938e35f1"
      },
      "outputs": [
        {
          "output_type": "stream",
          "name": "stdout",
          "text": [
            "In the final room of the dungeon rests two chests, completely\n",
            "  identical in every way. You know one contains incredible treasures\n",
            "  the other is a mimic and will eat you.\n",
            "\n",
            "Which chest will you open? (1 or 2)\n",
            "1\n",
            "You approach the chest...\n",
            "You flick open the lock...\n",
            "You begin to open it and hear the hinges creak...\n",
            "\n",
            "And you reveal a hoard of gems and gold coins!\n",
            "Do you want to play again? (yes or no)\n"
          ]
        }
      ],
      "source": [
        "#This game has the player choose a chest and either wins or is eaten\n",
        "import random\n",
        "import time\n",
        "\n",
        "def displayIntro():\n",
        "  print('''In the final room of the dungeon rests two chests, completely\n",
        "  identical in every way. You know one contains incredible treasures\n",
        "  the other is a mimic and will eat you.''')\n",
        "  print()\n",
        "\n",
        "def chooseChest(): \n",
        "  chest = ''\n",
        "  while chest != '1' and chest != '2':\n",
        "    print('Which chest will you open? (1 or 2)')\n",
        "    chest = input()\n",
        "\n",
        "  return chest\n",
        "\n",
        "def checkChest(chosenChest):\n",
        "  print('You approach the chest...')\n",
        "  time.sleep(2)\n",
        "  print('You flick open the lock...')\n",
        "  time.sleep(2)\n",
        "  print('You begin to open it and hear the hinges creak...')\n",
        "  print()\n",
        "  time.sleep(2)\n",
        "\n",
        "  friendlyChest = random.randint(1,2)\n",
        "\n",
        "  if chosenChest == str(friendlyChest):\n",
        "    print('And you reveal a hoard of gems and gold coins!')\n",
        "  else:\n",
        "    print('The chest is a mimic and you are eaten, tasty!')\n",
        "\n",
        "playAgain = 'yes'\n",
        "while playAgain == 'yes' or playAgain == 'y':\n",
        "\n",
        "    displayIntro()\n",
        "\n",
        "    chestNumber = chooseChest()\n",
        "    \n",
        "    checkChest(chestNumber)\n",
        "\n",
        "    print('Do you want to play again? (yes or no)')\n",
        "    playAgain = input()"
      ]
    },
    {
      "cell_type": "code",
      "source": [],
      "metadata": {
        "id": "p11nKkEY4vQb"
      },
      "execution_count": null,
      "outputs": []
    }
  ]
}