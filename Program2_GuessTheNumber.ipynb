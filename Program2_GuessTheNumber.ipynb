{
  "nbformat": 4,
  "nbformat_minor": 0,
  "metadata": {
    "colab": {
      "provenance": [],
      "authorship_tag": "ABX9TyOIl4RPeUCQVDVsYwfOHa2j",
      "include_colab_link": true
    },
    "kernelspec": {
      "name": "python3",
      "display_name": "Python 3"
    },
    "language_info": {
      "name": "python"
    }
  },
  "cells": [
    {
      "cell_type": "markdown",
      "metadata": {
        "id": "view-in-github",
        "colab_type": "text"
      },
      "source": [
        "<a href=\"https://colab.research.google.com/github/StephanBWeikert/PythonProjects/blob/main/Program2_GuessTheNumber.ipynb\" target=\"_parent\"><img src=\"https://colab.research.google.com/assets/colab-badge.svg\" alt=\"Open In Colab\"/></a>"
      ]
    },
    {
      "cell_type": "code",
      "execution_count": 10,
      "metadata": {
        "colab": {
          "base_uri": "https://localhost:8080/"
        },
        "id": "658EitiXwjkW",
        "outputId": "d7d53e25-494a-4feb-f32a-abf7166f894e"
      },
      "outputs": [
        {
          "output_type": "stream",
          "name": "stdout",
          "text": [
            "Hello! What is your name?\n",
            "MountaineerFan\n",
            "Lets play a guessing game MountaineerFan. I am thinking of a number between 1 and 20. What number is it?\n",
            "Take a guess.\n",
            "15\n",
            "Your guess is too high.\n",
            "Take a guess.\n",
            "8\n",
            "Good job, MountaineerFan! You guessed my number in 2 tries!\n"
          ]
        }
      ],
      "source": [
        "#This is a Guess the Number game!\n",
        "import random\n",
        "\n",
        "guessesTaken = 0\n",
        "\n",
        "print('Hello! What is your name?')\n",
        "myName = input()\n",
        "\n",
        "number = random.randint(1,20)\n",
        "print('Lets play a guessing game ' + myName + '. I am thinking of a number between 1 and 20. What number is it?' )\n",
        "\n",
        "for guessesTaken in range(6):\n",
        "    print('Take a guess.') \n",
        "    guess = input()\n",
        "    guess = int(guess)\n",
        "\n",
        "    if guess < number:\n",
        "      print('Your guess is too low.')\n",
        "\n",
        "    if guess > number:\n",
        "      print('Your guess is too high.')\n",
        "\n",
        "    if guess == number:\n",
        "      break\n",
        "\n",
        "if guess == number: \n",
        "    guessesTaken = str(guessesTaken + 1)\n",
        "    print('Good job, ' + myName + '! You guessed my number in ' + guessesTaken + ' tries!')\n",
        "\n",
        "if guess != number:\n",
        "    number = str(number)\n",
        "    print('Sorry, the number I was thinking of was ' + number + 1 + '.')"
      ]
    }
  ]
}